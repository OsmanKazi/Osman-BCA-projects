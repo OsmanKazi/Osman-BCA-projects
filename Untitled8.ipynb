{
 "cells": [
  {
   "cell_type": "code",
   "execution_count": 1,
   "id": "7b3bfe65-ebe2-4218-93a0-4a6a5f8b70ee",
   "metadata": {},
   "outputs": [],
   "source": [
    "name = \"FardEEn ahMED\""
   ]
  },
  {
   "cell_type": "code",
   "execution_count": 3,
   "id": "a7ad2e23-96f6-4de2-9f99-4607bb0f48c0",
   "metadata": {},
   "outputs": [
    {
     "data": {
      "text/plain": [
       "'fARDeeN AHmed'"
      ]
     },
     "execution_count": 3,
     "metadata": {},
     "output_type": "execute_result"
    }
   ],
   "source": [
    "# convert capital to small and small to capital\n",
    "name.swapcase()"
   ]
  },
  {
   "cell_type": "code",
   "execution_count": 8,
   "id": "4d9ee307-7a70-46ca-8a4d-362f55b599e2",
   "metadata": {
    "scrolled": true
   },
   "outputs": [
    {
     "data": {
      "text/plain": [
       "'F@a@r@d@E@E@n@ @a@h@M@E@D'"
      ]
     },
     "execution_count": 8,
     "metadata": {},
     "output_type": "execute_result"
    }
   ],
   "source": [
    "# 'F@a@r@d@E@E@n@ @a@h@M@E@D'\n",
    "'@'.join(name)"
   ]
  },
  {
   "cell_type": "code",
   "execution_count": 9,
   "id": "8ce2be71-3fb9-4dbc-9907-d1fe873e44e7",
   "metadata": {},
   "outputs": [],
   "source": [
    "name1 = \"sneha yadav\""
   ]
  },
  {
   "cell_type": "code",
   "execution_count": 13,
   "id": "901e5c5b-8277-4f49-8e13-a911cc0203c3",
   "metadata": {
    "scrolled": true
   },
   "outputs": [
    {
     "data": {
      "text/plain": [
       "False"
      ]
     },
     "execution_count": 13,
     "metadata": {},
     "output_type": "execute_result"
    }
   ],
   "source": [
    "name1.isalpha()"
   ]
  },
  {
   "cell_type": "code",
   "execution_count": 15,
   "id": "1c7ae029-8576-4a27-841c-3be09e5bda26",
   "metadata": {},
   "outputs": [
    {
     "data": {
      "text/plain": [
       "True"
      ]
     },
     "execution_count": 15,
     "metadata": {},
     "output_type": "execute_result"
    }
   ],
   "source": [
    "name1.startswith('s')"
   ]
  },
  {
   "cell_type": "code",
   "execution_count": 16,
   "id": "e5a15eec-b7cd-4571-935c-7d3baebd29dd",
   "metadata": {},
   "outputs": [
    {
     "data": {
      "text/plain": [
       "'sneha yadav'"
      ]
     },
     "execution_count": 16,
     "metadata": {},
     "output_type": "execute_result"
    }
   ],
   "source": [
    "name1"
   ]
  },
  {
   "cell_type": "code",
   "execution_count": 17,
   "id": "115a5b5c-f33e-45f4-960e-fb6a3508ff66",
   "metadata": {},
   "outputs": [
    {
     "data": {
      "text/plain": [
       "False"
      ]
     },
     "execution_count": 17,
     "metadata": {},
     "output_type": "execute_result"
    }
   ],
   "source": [
    "name1.endswith('l')"
   ]
  },
  {
   "cell_type": "code",
   "execution_count": 18,
   "id": "362b143a-ba46-4f46-a57f-48fd409285e7",
   "metadata": {},
   "outputs": [
    {
     "data": {
      "text/plain": [
       "True"
      ]
     },
     "execution_count": 18,
     "metadata": {},
     "output_type": "execute_result"
    }
   ],
   "source": [
    "name1.endswith('v')"
   ]
  },
  {
   "cell_type": "code",
   "execution_count": 20,
   "id": "5a2042f1-cfe9-47fe-8023-a47f37e25a64",
   "metadata": {},
   "outputs": [
    {
     "data": {
      "text/plain": [
       "<reversed at 0x7e7696faaa40>"
      ]
     },
     "execution_count": 20,
     "metadata": {},
     "output_type": "execute_result"
    }
   ],
   "source": [
    "reversed(name1)"
   ]
  },
  {
   "cell_type": "code",
   "execution_count": 21,
   "id": "06664592-bb7a-42ca-8316-f78f96844879",
   "metadata": {},
   "outputs": [
    {
     "ename": "NameError",
     "evalue": "name 'reserved' is not defined",
     "output_type": "error",
     "traceback": [
      "\u001b[0;31m---------------------------------------------------------------------------\u001b[0m",
      "\u001b[0;31mNameError\u001b[0m                                 Traceback (most recent call last)",
      "Cell \u001b[0;32mIn[21], line 1\u001b[0m\n\u001b[0;32m----> 1\u001b[0m \u001b[38;5;124m\"\u001b[39m\u001b[38;5;124m\"\u001b[39m\u001b[38;5;241m.\u001b[39mjoin(reserved(name1))\n",
      "\u001b[0;31mNameError\u001b[0m: name 'reserved' is not defined"
     ]
    }
   ],
   "source": [
    "\"\".join(reserved(name1))"
   ]
  },
  {
   "cell_type": "code",
   "execution_count": null,
   "id": "ffc651f8-39c0-4225-a7db-85b365034cc2",
   "metadata": {},
   "outputs": [],
   "source": []
  }
 ],
 "metadata": {
  "kernelspec": {
   "display_name": "Python 3 (ipykernel)",
   "language": "python",
   "name": "python3"
  },
  "language_info": {
   "codemirror_mode": {
    "name": "ipython",
    "version": 3
   },
   "file_extension": ".py",
   "mimetype": "text/x-python",
   "name": "python",
   "nbconvert_exporter": "python",
   "pygments_lexer": "ipython3",
   "version": "3.12.4"
  }
 },
 "nbformat": 4,
 "nbformat_minor": 5
}
