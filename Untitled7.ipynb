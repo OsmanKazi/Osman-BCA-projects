{
 "cells": [
  {
   "cell_type": "code",
   "execution_count": 1,
   "id": "94b13ee9-ef70-4792-8ea4-d6da7eb92e99",
   "metadata": {},
   "outputs": [],
   "source": [
    "name= \"shubham jadhv\"\n"
   ]
  },
  {
   "cell_type": "code",
   "execution_count": 2,
   "id": "e1ae6ee8-e6cd-45bd-a7c5-53919a7a722e",
   "metadata": {},
   "outputs": [
    {
     "data": {
      "text/plain": [
       "'shubham jadhv'"
      ]
     },
     "execution_count": 2,
     "metadata": {},
     "output_type": "execute_result"
    }
   ],
   "source": [
    "name"
   ]
  },
  {
   "cell_type": "code",
   "execution_count": 3,
   "id": "5de1c7fa-bd9d-42d7-b131-1e718aaf92e5",
   "metadata": {},
   "outputs": [
    {
     "ename": "SyntaxError",
     "evalue": "invalid syntax (355531333.py, line 2)",
     "output_type": "error",
     "traceback": [
      "\u001b[0;36m  Cell \u001b[0;32mIn[3], line 2\u001b[0;36m\u001b[0m\n\u001b[0;31m    SHUBAHM JADHV\u001b[0m\n\u001b[0m            ^\u001b[0m\n\u001b[0;31mSyntaxError\u001b[0m\u001b[0;31m:\u001b[0m invalid syntax\n"
     ]
    }
   ],
   "source": [
    "# convert it into capslock\n",
    "SHUBAHM JADHV "
   ]
  },
  {
   "cell_type": "code",
   "execution_count": 1,
   "id": "602a6856-0f15-40d2-88e6-185e5f327f77",
   "metadata": {},
   "outputs": [],
   "source": [
    "name=\"OsMaN KaZi\""
   ]
  },
  {
   "cell_type": "code",
   "execution_count": 2,
   "id": "b1aaffd2-82d3-4c46-a3fc-ca6cb6466393",
   "metadata": {},
   "outputs": [
    {
     "data": {
      "text/plain": [
       "'OsMaN KaZi'"
      ]
     },
     "execution_count": 2,
     "metadata": {},
     "output_type": "execute_result"
    }
   ],
   "source": [
    "name"
   ]
  },
  {
   "cell_type": "code",
   "execution_count": 3,
   "id": "9b9b80bc-8835-4fd5-b21d-0c1dd4125558",
   "metadata": {},
   "outputs": [
    {
     "data": {
      "text/plain": [
       "'oSmAn kAzI'"
      ]
     },
     "execution_count": 3,
     "metadata": {},
     "output_type": "execute_result"
    }
   ],
   "source": [
    "#cpital letter should become small and vice versa\n",
    "name.swapcase()"
   ]
  },
  {
   "cell_type": "code",
   "execution_count": 4,
   "id": "4e2438e4-4552-469e-8f1e-7d63214996f3",
   "metadata": {},
   "outputs": [],
   "source": [
    "name2= \"           Ali kazi            \""
   ]
  },
  {
   "cell_type": "code",
   "execution_count": 5,
   "id": "17734ab3-a7d1-44db-8ca1-ba7ad16d471d",
   "metadata": {},
   "outputs": [
    {
     "data": {
      "text/plain": [
       "'           Ali kazi            '"
      ]
     },
     "execution_count": 5,
     "metadata": {},
     "output_type": "execute_result"
    }
   ],
   "source": [
    "name2"
   ]
  },
  {
   "cell_type": "code",
   "execution_count": 6,
   "id": "a242e341-6407-4042-b4af-d1a2d637c59c",
   "metadata": {},
   "outputs": [],
   "source": [
    "#1. remove left space\n",
    "#2. remove right space\n",
    "#3. remove both left and right space "
   ]
  },
  {
   "cell_type": "code",
   "execution_count": 8,
   "id": "398d2217-d4f2-4145-9b9d-ec842064bfa9",
   "metadata": {},
   "outputs": [
    {
     "data": {
      "text/plain": [
       "'Ali kazi            '"
      ]
     },
     "execution_count": 8,
     "metadata": {},
     "output_type": "execute_result"
    }
   ],
   "source": [
    "name2. lstrip()"
   ]
  },
  {
   "cell_type": "code",
   "execution_count": 9,
   "id": "e61ee0c1-0698-4c93-8ded-279fb597e581",
   "metadata": {},
   "outputs": [
    {
     "data": {
      "text/plain": [
       "'Ali kazi'"
      ]
     },
     "execution_count": 9,
     "metadata": {},
     "output_type": "execute_result"
    }
   ],
   "source": [
    "name2.strip()"
   ]
  },
  {
   "cell_type": "code",
   "execution_count": 11,
   "id": "888387a2-ebdd-4b41-9e6a-6a5b5c5487b9",
   "metadata": {},
   "outputs": [],
   "source": [
    "# Bring this output\n",
    "# **** ali kazi ****"
   ]
  },
  {
   "cell_type": "code",
   "execution_count": 12,
   "id": "ce6354e5-84df-43d4-9330-ed56e5b680d6",
   "metadata": {},
   "outputs": [
    {
     "data": {
      "text/plain": [
       "'*********           Ali kazi            **********'"
      ]
     },
     "execution_count": 12,
     "metadata": {},
     "output_type": "execute_result"
    }
   ],
   "source": [
    "name2. center(50, '*')"
   ]
  },
  {
   "cell_type": "code",
   "execution_count": 13,
   "id": "072d2fb2-6cf9-437d-98d5-4197c1726b62",
   "metadata": {},
   "outputs": [],
   "source": [
    "name3= \"amzu kazi\""
   ]
  },
  {
   "cell_type": "markdown",
   "id": "625dbf9d-6a80-47ec-9862-1f28304bcf7a",
   "metadata": {},
   "source": [
    "name3"
   ]
  },
  {
   "cell_type": "code",
   "execution_count": 14,
   "id": "25bb261b-e730-43d8-baaf-d1c3a7d7d7c3",
   "metadata": {},
   "outputs": [
    {
     "data": {
      "text/plain": [
       "'amzu kazi'"
      ]
     },
     "execution_count": 14,
     "metadata": {},
     "output_type": "execute_result"
    }
   ],
   "source": [
    "name3"
   ]
  },
  {
   "cell_type": "code",
   "execution_count": 15,
   "id": "6449944b-22a5-40c0-9e6a-6a1b7a069f95",
   "metadata": {},
   "outputs": [
    {
     "data": {
      "text/plain": [
       "False"
      ]
     },
     "execution_count": 15,
     "metadata": {},
     "output_type": "execute_result"
    }
   ],
   "source": [
    "name.isupper()"
   ]
  },
  {
   "cell_type": "code",
   "execution_count": 16,
   "id": "70234960-b863-4e20-9c7d-560e1865c630",
   "metadata": {},
   "outputs": [
    {
     "data": {
      "text/plain": [
       "False"
      ]
     },
     "execution_count": 16,
     "metadata": {},
     "output_type": "execute_result"
    }
   ],
   "source": [
    "name3. isupper()"
   ]
  },
  {
   "cell_type": "markdown",
   "id": "9c87d575-8a22-4d60-9ceb-03aff82ec2a2",
   "metadata": {},
   "source": [
    "### name"
   ]
  },
  {
   "cell_type": "code",
   "execution_count": null,
   "id": "de9c6a7b-02dd-4b5d-ba55-9a19ddadb7fe",
   "metadata": {},
   "outputs": [],
   "source": []
  }
 ],
 "metadata": {
  "kernelspec": {
   "display_name": "Python 3 (ipykernel)",
   "language": "python",
   "name": "python3"
  },
  "language_info": {
   "codemirror_mode": {
    "name": "ipython",
    "version": 3
   },
   "file_extension": ".py",
   "mimetype": "text/x-python",
   "name": "python",
   "nbconvert_exporter": "python",
   "pygments_lexer": "ipython3",
   "version": "3.12.4"
  }
 },
 "nbformat": 4,
 "nbformat_minor": 5
}
