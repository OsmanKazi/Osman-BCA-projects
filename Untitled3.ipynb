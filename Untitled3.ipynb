{
 "cells": [
  {
   "cell_type": "code",
   "execution_count": 1,
   "id": "51412eed-6a9c-4ea6-b8c0-c8e2e798a098",
   "metadata": {},
   "outputs": [],
   "source": [
    "name = \"osman\""
   ]
  },
  {
   "cell_type": "code",
   "execution_count": 2,
   "id": "8dc3501e-c294-4598-bd74-0c5cb936e988",
   "metadata": {},
   "outputs": [
    {
     "data": {
      "text/plain": [
       "(7+8j)"
      ]
     },
     "execution_count": 2,
     "metadata": {},
     "output_type": "execute_result"
    }
   ],
   "source": [
    "7+8j"
   ]
  },
  {
   "cell_type": "code",
   "execution_count": 4,
   "id": "0adf6090-62d0-41d4-86be-98c78b842ac2",
   "metadata": {},
   "outputs": [
    {
     "data": {
      "text/plain": [
       "12"
      ]
     },
     "execution_count": 4,
     "metadata": {},
     "output_type": "execute_result"
    }
   ],
   "source": [
    "10+2"
   ]
  },
  {
   "cell_type": "code",
   "execution_count": 7,
   "id": "504367e9-2036-45cd-b604-23f5df2b18b9",
   "metadata": {},
   "outputs": [
    {
     "data": {
      "text/plain": [
       "1"
      ]
     },
     "execution_count": 7,
     "metadata": {},
     "output_type": "execute_result"
    }
   ],
   "source": [
    "True-False"
   ]
  },
  {
   "cell_type": "code",
   "execution_count": 11,
   "id": "0aff59ee-05cd-49d6-a6b6-2e96920e34fa",
   "metadata": {},
   "outputs": [
    {
     "data": {
      "text/plain": [
       "bool"
      ]
     },
     "execution_count": 11,
     "metadata": {},
     "output_type": "execute_result"
    }
   ],
   "source": [
    "type(a)"
   ]
  },
  {
   "cell_type": "code",
   "execution_count": 10,
   "id": "708e33f8-d9d3-404d-8f8f-d839f21659a9",
   "metadata": {},
   "outputs": [],
   "source": [
    "a = True"
   ]
  },
  {
   "cell_type": "code",
   "execution_count": 14,
   "id": "d276ba91-2342-4e74-959b-2908ce506499",
   "metadata": {},
   "outputs": [
    {
     "data": {
      "text/plain": [
       "-1"
      ]
     },
     "execution_count": 14,
     "metadata": {},
     "output_type": "execute_result"
    }
   ],
   "source": [
    "False-True"
   ]
  },
  {
   "cell_type": "code",
   "execution_count": 16,
   "id": "80caa2ca-df8a-4a1c-a8ff-7db8d3189bb9",
   "metadata": {},
   "outputs": [
    {
     "data": {
      "text/plain": [
       "0.0"
      ]
     },
     "execution_count": 16,
     "metadata": {},
     "output_type": "execute_result"
    }
   ],
   "source": [
    "False/True"
   ]
  },
  {
   "cell_type": "code",
   "execution_count": 18,
   "id": "54863e89-9da3-4a3a-a752-c3a1bd8785f6",
   "metadata": {},
   "outputs": [
    {
     "ename": "ZeroDivisionError",
     "evalue": "division by zero",
     "output_type": "error",
     "traceback": [
      "\u001b[0;31m---------------------------------------------------------------------------\u001b[0m",
      "\u001b[0;31mZeroDivisionError\u001b[0m                         Traceback (most recent call last)",
      "Cell \u001b[0;32mIn[18], line 1\u001b[0m\n\u001b[0;32m----> 1\u001b[0m \u001b[38;5;28;01mTrue\u001b[39;00m\u001b[38;5;241m/\u001b[39m\u001b[38;5;28;01mFalse\u001b[39;00m\n",
      "\u001b[0;31mZeroDivisionError\u001b[0m: division by zero"
     ]
    }
   ],
   "source": [
    "True/False"
   ]
  },
  {
   "cell_type": "code",
   "execution_count": 19,
   "id": "797f6653-d881-4f98-908c-d0cc36c24d9c",
   "metadata": {},
   "outputs": [],
   "source": [
    "name =\"uzma kazi\""
   ]
  },
  {
   "cell_type": "code",
   "execution_count": 20,
   "id": "15b0dc8d-7ba3-40ff-809e-650d1cfc683c",
   "metadata": {},
   "outputs": [
    {
     "data": {
      "text/plain": [
       "'uzma kazi'"
      ]
     },
     "execution_count": 20,
     "metadata": {},
     "output_type": "execute_result"
    }
   ],
   "source": [
    "name"
   ]
  },
  {
   "cell_type": "code",
   "execution_count": 22,
   "id": "175716ef-1387-474c-99d0-1f16f4d49f91",
   "metadata": {},
   "outputs": [
    {
     "data": {
      "text/plain": [
       "'uzma kaz'"
      ]
     },
     "execution_count": 22,
     "metadata": {},
     "output_type": "execute_result"
    }
   ],
   "source": [
    "name[0:8]"
   ]
  },
  {
   "cell_type": "code",
   "execution_count": 23,
   "id": "5d47bf8a-595f-4aa0-b0d7-3d01e9b6bd36",
   "metadata": {},
   "outputs": [
    {
     "data": {
      "text/plain": [
       "'uzma '"
      ]
     },
     "execution_count": 23,
     "metadata": {},
     "output_type": "execute_result"
    }
   ],
   "source": [
    "name[0:5]"
   ]
  },
  {
   "cell_type": "code",
   "execution_count": 24,
   "id": "ffb25aba-b066-4587-a367-edf6f0265bd5",
   "metadata": {},
   "outputs": [
    {
     "data": {
      "text/plain": [
       "'ma '"
      ]
     },
     "execution_count": 24,
     "metadata": {},
     "output_type": "execute_result"
    }
   ],
   "source": [
    "name[2:5]"
   ]
  },
  {
   "cell_type": "code",
   "execution_count": 25,
   "id": "3846098a-359b-41b8-bb6a-9a06c635e87c",
   "metadata": {},
   "outputs": [
    {
     "data": {
      "text/plain": [
       "'uzma kazi'"
      ]
     },
     "execution_count": 25,
     "metadata": {},
     "output_type": "execute_result"
    }
   ],
   "source": [
    "name[0:9]"
   ]
  },
  {
   "cell_type": "code",
   "execution_count": 26,
   "id": "f10f4d67-ba2e-45ad-9de3-907d3be062e5",
   "metadata": {},
   "outputs": [
    {
     "data": {
      "text/plain": [
       "'uzma kazi'"
      ]
     },
     "execution_count": 26,
     "metadata": {},
     "output_type": "execute_result"
    }
   ],
   "source": [
    "name[0:90]"
   ]
  },
  {
   "cell_type": "code",
   "execution_count": 27,
   "id": "e5e27cae-924c-484c-bd67-7e6df00db59a",
   "metadata": {},
   "outputs": [
    {
     "data": {
      "text/plain": [
       "''"
      ]
     },
     "execution_count": 27,
     "metadata": {},
     "output_type": "execute_result"
    }
   ],
   "source": [
    "name[90:2]"
   ]
  },
  {
   "cell_type": "code",
   "execution_count": 29,
   "id": "35d64f1f-4885-43a4-b7ce-6a43751b22cb",
   "metadata": {},
   "outputs": [
    {
     "data": {
      "text/plain": [
       "'m ai'"
      ]
     },
     "execution_count": 29,
     "metadata": {},
     "output_type": "execute_result"
    }
   ],
   "source": [
    "name[2:90:2]"
   ]
  },
  {
   "cell_type": "code",
   "execution_count": 31,
   "id": "24059eab-3b16-48d9-ba21-12a9e59562cd",
   "metadata": {},
   "outputs": [
    {
     "data": {
      "text/plain": [
       "'zma kazi'"
      ]
     },
     "execution_count": 31,
     "metadata": {},
     "output_type": "execute_result"
    }
   ],
   "source": [
    "name[1:90:1]"
   ]
  },
  {
   "cell_type": "code",
   "execution_count": 32,
   "id": "04227851-c8d6-4bbd-96fc-e606abe2816a",
   "metadata": {},
   "outputs": [
    {
     "data": {
      "text/plain": [
       "'uzma kazi'"
      ]
     },
     "execution_count": 32,
     "metadata": {},
     "output_type": "execute_result"
    }
   ],
   "source": [
    "name"
   ]
  },
  {
   "cell_type": "code",
   "execution_count": 36,
   "id": "ef56a0dd-ebb2-4643-b671-24d164515bbb",
   "metadata": {},
   "outputs": [
    {
     "data": {
      "text/plain": [
       "''"
      ]
     },
     "execution_count": 36,
     "metadata": {},
     "output_type": "execute_result"
    }
   ],
   "source": [
    "name[15:15]"
   ]
  },
  {
   "cell_type": "code",
   "execution_count": 43,
   "id": "91cdf132-078a-472b-8ef4-1bc34e18dfc9",
   "metadata": {},
   "outputs": [
    {
     "data": {
      "text/plain": [
       "' amzu'"
      ]
     },
     "execution_count": 43,
     "metadata": {},
     "output_type": "execute_result"
    }
   ],
   "source": [
    "name[-5:-15:-1]"
   ]
  },
  {
   "cell_type": "markdown",
   "id": "3e339e27-dd21-455b-a977-c336ca9b4cd4",
   "metadata": {},
   "source": [
    "### name[-15:5:-1]"
   ]
  },
  {
   "cell_type": "code",
   "execution_count": 44,
   "id": "b6c530d6-84d6-4174-9cc1-81ea4af0546a",
   "metadata": {},
   "outputs": [],
   "source": [
    "# WAP to reverse your name"
   ]
  },
  {
   "cell_type": "code",
   "execution_count": 45,
   "id": "0833411a-5e80-4ec5-9c23-3455aae3f2d2",
   "metadata": {},
   "outputs": [
    {
     "data": {
      "text/plain": [
       "'uzma kazi'"
      ]
     },
     "execution_count": 45,
     "metadata": {},
     "output_type": "execute_result"
    }
   ],
   "source": [
    "name[0:90]"
   ]
  },
  {
   "cell_type": "code",
   "execution_count": null,
   "id": "b0ccc193-e24f-4747-8a9a-af49de9acc30",
   "metadata": {},
   "outputs": [],
   "source": []
  },
  {
   "cell_type": "code",
   "execution_count": null,
   "id": "5a606bf6-a7f7-4e99-a5a4-525885579267",
   "metadata": {},
   "outputs": [],
   "source": []
  }
 ],
 "metadata": {
  "kernelspec": {
   "display_name": "Python 3 (ipykernel)",
   "language": "python",
   "name": "python3"
  },
  "language_info": {
   "codemirror_mode": {
    "name": "ipython",
    "version": 3
   },
   "file_extension": ".py",
   "mimetype": "text/x-python",
   "name": "python",
   "nbconvert_exporter": "python",
   "pygments_lexer": "ipython3",
   "version": "3.12.4"
  }
 },
 "nbformat": 4,
 "nbformat_minor": 5
}
